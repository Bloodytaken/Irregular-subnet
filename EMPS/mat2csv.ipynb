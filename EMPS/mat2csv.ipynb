{
 "cells": [
  {
   "cell_type": "code",
   "execution_count": 1,
   "metadata": {},
   "outputs": [
    {
     "name": "stdout",
     "output_type": "stream",
     "text": [
      "dict_keys(['__header__', '__version__', '__globals__', 'gtau', 'kp', 'kv', 'qg', 'qm', 't', 'vir'])\n",
      "[0.         0.00100002 0.00099998 ... 0.00099998 0.00100002 0.00099998]\n"
     ]
    }
   ],
   "source": [
    "from scipy.io import loadmat\n",
    "import numpy as np \n",
    "data = loadmat(\"/Users/bloodytaken/graduate_project/data/EMPS/DATA_EMPS.mat\")\n",
    "\n",
    "print(data.keys())\n",
    "u=data[\"vir\"].flatten()\n",
    "y=data[\"qm\"].flatten()\n",
    "t=data[\"t\"].flatten()\n",
    "dt = np.concatenate(([0.0], np.diff(t))) \n",
    "print(dt)"
   ]
  },
  {
   "cell_type": "code",
   "execution_count": 3,
   "metadata": {},
   "outputs": [],
   "source": [
    "import pandas as pd\n",
    "df=pd.DataFrame({\"u\": u, \"y\": y, \"t\": t})\n",
    "df.to_csv(\"/Users/bloodytaken/graduate_project/data/EMPS/DATA_EMPS.csv\",index=False)"
   ]
  },
  {
   "cell_type": "code",
   "execution_count": 1,
   "metadata": {},
   "outputs": [],
   "source": [
    "import numpy as np\n",
    "import pandas as pd\n",
    "\n",
    "df = pd.read_csv(\"/Users/bloodytaken/graduate_project/data/EMPS/DATA_EMPS_PULSES.csv\")\n",
    "df_sampled = df.sample(frac=0.3, random_state=42).sort_values(by=\"t\").reset_index(drop=True) # Keep 30% of the raw data.\n",
    "t = df_sampled[\"t\"].values\n",
    "dt = np.concatenate([[0.0], np.diff(t)])\n",
    "df_sampled[\"dt\"] = dt\n",
    "\n",
    "df_sampled.to_csv(\"/Users/bloodytaken/graduate_project/data/EMPS/DATA_EMPS_irregular_30.csv\", index=False)\n"
   ]
  }
 ],
 "metadata": {
  "kernelspec": {
   "display_name": "deepSI",
   "language": "python",
   "name": "python3"
  },
  "language_info": {
   "codemirror_mode": {
    "name": "ipython",
    "version": 3
   },
   "file_extension": ".py",
   "mimetype": "text/x-python",
   "name": "python",
   "nbconvert_exporter": "python",
   "pygments_lexer": "ipython3",
   "version": "3.12.5"
  }
 },
 "nbformat": 4,
 "nbformat_minor": 2
}
